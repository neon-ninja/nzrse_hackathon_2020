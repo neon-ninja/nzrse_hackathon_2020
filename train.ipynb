{
 "cells": [
  {
   "cell_type": "code",
   "execution_count": 1,
   "metadata": {},
   "outputs": [],
   "source": [
    "import numpy as np\n",
    "import pandas as pd\n",
    "import os\n",
    "import matplotlib.pyplot as plt\n",
    "import seaborn as sns\n",
    "from sklearn.model_selection import train_test_split\n",
    "from sklearn.ensemble import RandomForestRegressor\n",
    "from xgboost import XGBRegressor, plot_importance\n",
    "os.listdir(\"data\")\n",
    "\n",
    "np.random.seed(1337)\n",
    "\n",
    "def quantile_loss(y_actual, y_predict):\n",
    "    \"\"\"\n",
    "    Cost function to minimise\n",
    "    - y_actual: the actual number of core hours consumed by the simulation (array-like)\n",
    "    - y_predict: the model's prediction (array-like of same length as above)\n",
    "    - returns positive number, the lower the better\n",
    "    \"\"\"\n",
    "    quantile = 0.9\n",
    "    errors = np.maximum((y_actual - y_predict) * quantile, (y_predict - y_actual) * (1.0 - quantile))\n",
    "    return np.mean(errors)"
   ]
  },
  {
   "cell_type": "code",
   "execution_count": 2,
   "metadata": {},
   "outputs": [
    {
     "data": {
      "text/html": [
       "<div>\n",
       "<style scoped>\n",
       "    .dataframe tbody tr th:only-of-type {\n",
       "        vertical-align: middle;\n",
       "    }\n",
       "\n",
       "    .dataframe tbody tr th {\n",
       "        vertical-align: top;\n",
       "    }\n",
       "\n",
       "    .dataframe thead th {\n",
       "        text-align: right;\n",
       "    }\n",
       "</style>\n",
       "<table border=\"1\" class=\"dataframe\">\n",
       "  <thead>\n",
       "    <tr style=\"text-align: right;\">\n",
       "      <th></th>\n",
       "      <th>nt</th>\n",
       "      <th>nx</th>\n",
       "      <th>ny</th>\n",
       "      <th>nz</th>\n",
       "      <th>n_sub</th>\n",
       "      <th>n_cores</th>\n",
       "    </tr>\n",
       "  </thead>\n",
       "  <tbody>\n",
       "    <tr>\n",
       "      <th>count</th>\n",
       "      <td>11795.000000</td>\n",
       "      <td>11795.00000</td>\n",
       "      <td>11795.000000</td>\n",
       "      <td>11795.000000</td>\n",
       "      <td>1.179500e+04</td>\n",
       "      <td>11795.000000</td>\n",
       "    </tr>\n",
       "    <tr>\n",
       "      <th>mean</th>\n",
       "      <td>6437.316914</td>\n",
       "      <td>737.01933</td>\n",
       "      <td>945.518440</td>\n",
       "      <td>155.330903</td>\n",
       "      <td>1.196169e+05</td>\n",
       "      <td>177.254769</td>\n",
       "    </tr>\n",
       "    <tr>\n",
       "      <th>std</th>\n",
       "      <td>2936.300451</td>\n",
       "      <td>386.95983</td>\n",
       "      <td>535.203539</td>\n",
       "      <td>61.300102</td>\n",
       "      <td>2.529458e+05</td>\n",
       "      <td>46.258255</td>\n",
       "    </tr>\n",
       "    <tr>\n",
       "      <th>min</th>\n",
       "      <td>1301.000000</td>\n",
       "      <td>136.00000</td>\n",
       "      <td>135.000000</td>\n",
       "      <td>82.000000</td>\n",
       "      <td>1.000000e+00</td>\n",
       "      <td>160.000000</td>\n",
       "    </tr>\n",
       "    <tr>\n",
       "      <th>25%</th>\n",
       "      <td>4183.000000</td>\n",
       "      <td>440.00000</td>\n",
       "      <td>549.000000</td>\n",
       "      <td>115.000000</td>\n",
       "      <td>4.212000e+04</td>\n",
       "      <td>160.000000</td>\n",
       "    </tr>\n",
       "    <tr>\n",
       "      <th>50%</th>\n",
       "      <td>5942.000000</td>\n",
       "      <td>669.00000</td>\n",
       "      <td>822.000000</td>\n",
       "      <td>122.000000</td>\n",
       "      <td>7.750400e+04</td>\n",
       "      <td>160.000000</td>\n",
       "    </tr>\n",
       "    <tr>\n",
       "      <th>75%</th>\n",
       "      <td>8263.000000</td>\n",
       "      <td>930.00000</td>\n",
       "      <td>1249.000000</td>\n",
       "      <td>230.000000</td>\n",
       "      <td>1.234500e+05</td>\n",
       "      <td>160.000000</td>\n",
       "    </tr>\n",
       "    <tr>\n",
       "      <th>max</th>\n",
       "      <td>17611.000000</td>\n",
       "      <td>2040.00000</td>\n",
       "      <td>3487.000000</td>\n",
       "      <td>390.000000</td>\n",
       "      <td>3.225600e+06</td>\n",
       "      <td>720.000000</td>\n",
       "    </tr>\n",
       "  </tbody>\n",
       "</table>\n",
       "</div>"
      ],
      "text/plain": [
       "                 nt           nx            ny            nz         n_sub  \\\n",
       "count  11795.000000  11795.00000  11795.000000  11795.000000  1.179500e+04   \n",
       "mean    6437.316914    737.01933    945.518440    155.330903  1.196169e+05   \n",
       "std     2936.300451    386.95983    535.203539     61.300102  2.529458e+05   \n",
       "min     1301.000000    136.00000    135.000000     82.000000  1.000000e+00   \n",
       "25%     4183.000000    440.00000    549.000000    115.000000  4.212000e+04   \n",
       "50%     5942.000000    669.00000    822.000000    122.000000  7.750400e+04   \n",
       "75%     8263.000000    930.00000   1249.000000    230.000000  1.234500e+05   \n",
       "max    17611.000000   2040.00000   3487.000000    390.000000  3.225600e+06   \n",
       "\n",
       "            n_cores  \n",
       "count  11795.000000  \n",
       "mean     177.254769  \n",
       "std       46.258255  \n",
       "min      160.000000  \n",
       "25%      160.000000  \n",
       "50%      160.000000  \n",
       "75%      160.000000  \n",
       "max      720.000000  "
      ]
     },
     "metadata": {},
     "output_type": "display_data"
    },
    {
     "data": {
      "text/plain": [
       "count    11795.000000\n",
       "mean        65.098713\n",
       "std        120.467776\n",
       "min          0.311111\n",
       "25%          6.577778\n",
       "50%         18.088889\n",
       "75%         66.266667\n",
       "max       1240.711111\n",
       "Name: core_hours, dtype: float64"
      ]
     },
     "metadata": {},
     "output_type": "display_data"
    }
   ],
   "source": [
    "df = pd.read_csv(\"data/emod3d_train_x.csv\")\n",
    "y = pd.read_csv(\"data/emod3d_train_y.csv\").core_hours\n",
    "test_x = pd.read_csv(\"data/emod3d_test_x.csv\")\n",
    "df = df[y > 0]\n",
    "y = y[y > 0]\n",
    "display(df.describe())\n",
    "display(y.describe())\n",
    "xtrain, xtest, ytrain, ytest = train_test_split(df, y)"
   ]
  },
  {
   "cell_type": "code",
   "execution_count": 3,
   "metadata": {
    "scrolled": false
   },
   "outputs": [
    {
     "data": {
      "image/png": "[encoded data removed]",
      "text/plain": [
       "<Figure size 432x288 with 1 Axes>"
      ]
     },
     "metadata": {
      "needs_background": "light"
     },
     "output_type": "display_data"
    },
    {
     "data": {
      "text/plain": [
       "<matplotlib.axes._subplots.AxesSubplot at 0x7ff56dfdd5f8>"
      ]
     },
     "execution_count": 3,
     "metadata": {},
     "output_type": "execute_result"
    },
    {
     "data": {
      "image/png": "[encoded data removed]",
      "text/plain": [
       "<Figure size 432x288 with 1 Axes>"
      ]
     },
     "metadata": {
      "needs_background": "light"
     },
     "output_type": "display_data"
    }
   ],
   "source": [
    "df[[\"nt\", \"nx\", \"ny\", \"nz\"]].plot.hist(alpha=0.5, bins=100)\n",
    "plt.show()\n",
    "y.plot.hist(alpha=0.5, bins=100)"
   ]
  },
  {
   "cell_type": "code",
   "execution_count": 4,
   "metadata": {},
   "outputs": [
    {
     "data": {
      "text/plain": [
       "<matplotlib.axes._subplots.AxesSubplot at 0x7ff5b86f2198>"
      ]
     },
     "execution_count": 4,
     "metadata": {},
     "output_type": "execute_result"
    },
    {
     "data": {
      "image/png": "[encoded data removed]",
      "text/plain": [
       "<Figure size 432x288 with 2 Axes>"
      ]
     },
     "metadata": {
      "needs_background": "light"
     },
     "output_type": "display_data"
    }
   ],
   "source": [
    "sns.heatmap(df.corr())"
   ]
  },
  {
   "cell_type": "code",
   "execution_count": 5,
   "metadata": {},
   "outputs": [
    {
     "data": {
      "text/plain": [
       "1.1300187507287522"
      ]
     },
     "execution_count": 5,
     "metadata": {},
     "output_type": "execute_result"
    }
   ],
   "source": [
    "model = RandomForestRegressor()\n",
    "model.fit(xtrain, ytrain)\n",
    "quantile_loss(ytest, model.predict(xtest))"
   ]
  },
  {
   "cell_type": "code",
   "execution_count": 6,
   "metadata": {},
   "outputs": [
    {
     "data": {
      "text/plain": [
       "<matplotlib.collections.PathCollection at 0x7ff56d8bdc88>"
      ]
     },
     "execution_count": 6,
     "metadata": {},
     "output_type": "execute_result"
    },
    {
     "data": {
      "image/png": "[encoded data removed]",
      "text/plain": [
       "<Figure size 432x288 with 1 Axes>"
      ]
     },
     "metadata": {
      "needs_background": "light"
     },
     "output_type": "display_data"
    }
   ],
   "source": [
    "quantile = 0.9\n",
    "pred = model.predict(xtest)\n",
    "errors = np.maximum((ytest - pred) * quantile, (pred - ytest) * (1.0 - quantile))\n",
    "plt.scatter(ytest, errors, c=ytest, marker='.') # errors seem to increase with higher core_hours"
   ]
  },
  {
   "cell_type": "code",
   "execution_count": 7,
   "metadata": {},
   "outputs": [
    {
     "name": "stdout",
     "output_type": "stream",
     "text": [
      "15.082668667208402\r\n",
      "325.7411933330984\r\n",
      "89.14844444444441\r\n",
      "124.27992402351823\r\n",
      "432.1031252899938\r\n",
      "21.519556421237\r\n",
      "22.17482338925881\r\n",
      "4.823620800612479\r\n",
      "0.7090776014109346\r\n",
      "33.230973986198556\r\n"
     ]
    }
   ],
   "source": [
    "model.fit(df, y) # refit to all data\n",
    "np.savetxt(\"emod3d_test_y.csv\", model.predict(test_x), fmt='%s')\n",
    "!head \"emod3d_test_y.csv\""
   ]
  }
 ],
 "metadata": {
  "kernelspec": {
   "display_name": "Python 3",
   "language": "python",
   "name": "python3"
  },
  "language_info": {
   "codemirror_mode": {
    "name": "ipython",
    "version": 3
   },
   "file_extension": ".py",
   "mimetype": "text/x-python",
   "name": "python",
   "nbconvert_exporter": "python",
   "pygments_lexer": "ipython3",
   "version": "3.6.9"
  }
 },
 "nbformat": 4,
 "nbformat_minor": 4
}
